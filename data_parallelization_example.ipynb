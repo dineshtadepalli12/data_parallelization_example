{
  "nbformat": 4,
  "nbformat_minor": 0,
  "metadata": {
    "colab": {
      "provenance": [],
      "collapsed_sections": []
    },
    "kernelspec": {
      "name": "python3",
      "display_name": "Python 3"
    },
    "language_info": {
      "name": "python"
    }
  },
  "cells": [
    {
      "cell_type": "code",
      "source": [
        "!pip install pyspark\n",
        "import numpy as np\n",
        "import pyspark\n",
        "from pyspark.sql import SparkSession\n",
        "spark = SparkSession.builder.appName('prac').getOrCreate()\n",
        "sc = spark.sparkContext\n",
        "\n",
        "\n"
      ],
      "metadata": {
        "id": "nrEjX5rCk7_c",
        "colab": {
          "base_uri": "https://localhost:8080/"
        },
        "outputId": "ce94bf48-329d-4b02-ae6a-ab179a4d6a4b"
      },
      "execution_count": 3,
      "outputs": [
        {
          "output_type": "stream",
          "name": "stdout",
          "text": [
            "Looking in indexes: https://pypi.org/simple, https://us-python.pkg.dev/colab-wheels/public/simple/\n",
            "Requirement already satisfied: pyspark in /usr/local/lib/python3.7/dist-packages (3.3.0)\n",
            "Requirement already satisfied: py4j==0.10.9.5 in /usr/local/lib/python3.7/dist-packages (from pyspark) (0.10.9.5)\n"
          ]
        }
      ]
    },
    {
      "cell_type": "code",
      "source": [],
      "metadata": {
        "id": "p62a2X_0EuvD"
      },
      "execution_count": null,
      "outputs": []
    },
    {
      "cell_type": "code",
      "source": [
        "b = [a for a in range(1,101)]\n",
        "print(b)"
      ],
      "metadata": {
        "colab": {
          "base_uri": "https://localhost:8080/"
        },
        "id": "8_O7X4U8lbbJ",
        "outputId": "d89bca3c-3dc6-4a8d-b5d3-1330628d702a"
      },
      "execution_count": 4,
      "outputs": [
        {
          "output_type": "stream",
          "name": "stdout",
          "text": [
            "[1, 2, 3, 4, 5, 6, 7, 8, 9, 10, 11, 12, 13, 14, 15, 16, 17, 18, 19, 20, 21, 22, 23, 24, 25, 26, 27, 28, 29, 30, 31, 32, 33, 34, 35, 36, 37, 38, 39, 40, 41, 42, 43, 44, 45, 46, 47, 48, 49, 50, 51, 52, 53, 54, 55, 56, 57, 58, 59, 60, 61, 62, 63, 64, 65, 66, 67, 68, 69, 70, 71, 72, 73, 74, 75, 76, 77, 78, 79, 80, 81, 82, 83, 84, 85, 86, 87, 88, 89, 90, 91, 92, 93, 94, 95, 96, 97, 98, 99, 100]\n"
          ]
        }
      ]
    },
    {
      "cell_type": "code",
      "source": [
        "EvenNums_rdd2 = sc.parallelize(list(filter(lambda x:x%2==0,b)),5)"
      ],
      "metadata": {
        "id": "EX-qOktvkskD"
      },
      "execution_count": 5,
      "outputs": []
    },
    {
      "cell_type": "code",
      "source": [
        "display(EvenNums_rdd2.glom().collect())"
      ],
      "metadata": {
        "colab": {
          "base_uri": "https://localhost:8080/",
          "height": 107
        },
        "id": "7APpgwuflmY1",
        "outputId": "2346328b-2917-49fc-fc95-17ebee924f49"
      },
      "execution_count": 6,
      "outputs": [
        {
          "output_type": "display_data",
          "data": {
            "text/plain": [
              "[[2, 4, 6, 8, 10, 12, 14, 16, 18, 20],\n",
              " [22, 24, 26, 28, 30, 32, 34, 36, 38, 40],\n",
              " [42, 44, 46, 48, 50, 52, 54, 56, 58, 60],\n",
              " [62, 64, 66, 68, 70, 72, 74, 76, 78, 80],\n",
              " [82, 84, 86, 88, 90, 92, 94, 96, 98, 100]]"
            ]
          },
          "metadata": {}
        }
      ]
    },
    {
      "cell_type": "markdown",
      "source": [
        "In the below cell, the same has been performed using normal python program without parallelization and we can see that parallelization is at advantage as it computes in 5 different rdds which can be grately useful for large datasets. \n"
      ],
      "metadata": {
        "id": "_8Tfsl2-Ew34"
      }
    },
    {
      "cell_type": "code",
      "source": [
        "def EvenNums(li):\n",
        "    print(\"The even numbers in the list range are: \")\n",
        "    for i in range(li[0],li[1]+1):\n",
        "        if i%2==0:\n",
        "            print(i,end=\" \")\n",
        "    \n",
        "EvenNums([1,100])"
      ],
      "metadata": {
        "colab": {
          "base_uri": "https://localhost:8080/"
        },
        "id": "8CDUUDCRFMYS",
        "outputId": "7596dbaf-d5f6-4897-8a36-da682a7c2bac"
      },
      "execution_count": 7,
      "outputs": [
        {
          "output_type": "stream",
          "name": "stdout",
          "text": [
            "The even numbers in the list range are: \n",
            "2 4 6 8 10 12 14 16 18 20 22 24 26 28 30 32 34 36 38 40 42 44 46 48 50 52 54 56 58 60 62 64 66 68 70 72 74 76 78 80 82 84 86 88 90 92 94 96 98 100 "
          ]
        }
      ]
    }
  ]
}